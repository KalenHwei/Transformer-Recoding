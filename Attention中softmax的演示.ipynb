{
 "cells": [
  {
   "cell_type": "raw",
   "id": "e9e07d4a-46fd-4de1-abe6-8f9a81239084",
   "metadata": {},
   "source": [
    "softmax演示"
   ]
  },
  {
   "cell_type": "code",
   "execution_count": 14,
   "id": "cacb36f8-fa76-4088-a7c4-ab9b11e46314",
   "metadata": {},
   "outputs": [
    {
     "name": "stdout",
     "output_type": "stream",
     "text": [
      "tensor([[ 0.2470, -0.6132, -0.4713],\n",
      "        [-0.0559,  0.1997,  0.3290]])\n",
      "tensor([[0.5751, 0.3073, 0.3100],\n",
      "        [0.4249, 0.6927, 0.6900]])\n",
      "tensor([[0.5234, 0.2214, 0.2552],\n",
      "        [0.2659, 0.3433, 0.3907]])\n",
      "tensor([[0.5234, 0.2214, 0.2552],\n",
      "        [0.2659, 0.3433, 0.3907]])\n"
     ]
    }
   ],
   "source": [
    "import torch\n",
    "from torch.nn import functional as F\n",
    "\n",
    "score = torch.randn(2, 3)\n",
    "prob1 = F.softmax(score, 0) #按列计算\n",
    "prob2 = F.softmax(score, 1) #按行计算\n",
    "prob3 = F.softmax(score, -1) #按最后一个维度计算，因此还是按行计算\n",
    "\n",
    "\n",
    "print(score)\n",
    "\n",
    "print(prob1)\n",
    "print(prob2)\n",
    "print(prob3)\n"
   ]
  },
  {
   "cell_type": "raw",
   "id": "22d9e785-69c2-493a-9c38-1bc1394c18bb",
   "metadata": {},
   "source": [
    "attention演示"
   ]
  },
  {
   "cell_type": "code",
   "execution_count": 18,
   "id": "95d080ae-e63d-4996-a2b7-8800ae636b0d",
   "metadata": {},
   "outputs": [
    {
     "name": "stdout",
     "output_type": "stream",
     "text": [
      "tensor([[0.3511, 0.3222, 0.3268],\n",
      "        [0.3263, 0.3347, 0.3391]])\n",
      "tensor([[9.9906e-01, 1.8365e-04, 7.5893e-04],\n",
      "        [1.6446e-02, 2.1176e-01, 7.7179e-01]])\n"
     ]
    }
   ],
   "source": [
    "# 由于缩放点积注意力机制有个/根号d，这个主要用来控制缩放，防止梯度爆炸\n",
    "alpha1 = 0.1\n",
    "alpha2 = 10\n",
    "\n",
    "acore = torch.randn(5)\n",
    "prob1 = F.softmax(score*alpha1, -1)\n",
    "prob2 = F.softmax(score*alpha2, -1)\n",
    "\n",
    "print(prob1)\n",
    "print(prob2)\n",
    "\n",
    "#数学上能够验证QK的方差为根号d，因此除以一个根号d以控制方差，从而控制计算梯度的时候消失or爆炸的问题"
   ]
  }
 ],
 "metadata": {
  "kernelspec": {
   "display_name": "Python 3 (ipykernel)",
   "language": "python",
   "name": "python3"
  },
  "language_info": {
   "codemirror_mode": {
    "name": "ipython",
    "version": 3
   },
   "file_extension": ".py",
   "mimetype": "text/x-python",
   "name": "python",
   "nbconvert_exporter": "python",
   "pygments_lexer": "ipython3",
   "version": "3.11.7"
  }
 },
 "nbformat": 4,
 "nbformat_minor": 5
}
